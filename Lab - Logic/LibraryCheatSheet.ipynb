{
 "cells": [
  {
   "cell_type": "markdown",
   "metadata": {},
   "source": [
    "Cheat sheet for the library's syntax\n",
    "<pre>\n",
    "negation           -\n",
    "conjunction        &\n",
    "disjunction        |\n",
    "implication        ->\n",
    "equivalence        &lt;-&gt;\n",
    "equality           =\n",
    "inequality         !=\n",
    "existential        exists\n",
    "universal          all\n",
    "</pre>"
   ]
  },
  {
   "cell_type": "code",
   "execution_count": 8,
   "metadata": {},
   "outputs": [],
   "source": [
    "from nltk.sem import Expression\n",
    "from nltk import ResolutionProver\n",
    "read_expr = Expression.fromstring"
   ]
  },
  {
   "cell_type": "code",
   "execution_count": 9,
   "metadata": {},
   "outputs": [],
   "source": [
    "# Shortcut method for running a proof\n",
    "\n",
    "def runProof(goal, axioms, verbose=False):\n",
    "    proof = ResolutionProver().prove(Expression.fromstring(goal), [Expression.fromstring(a) for a in axioms], verbose)\n",
    "    print(proof)\n"
   ]
  },
  {
   "cell_type": "code",
   "execution_count": null,
   "metadata": {},
   "outputs": [],
   "source": [
    "axiom = ['man(socrates)',\\\n",
    "         'all x.(man(x) -> mortal(x))']\n",
    "goal = 'mortal(socrates)'\n",
    "\n",
    "runProof(goal, axiom, True)"
   ]
  },
  {
   "cell_type": "code",
   "execution_count": null,
   "metadata": {},
   "outputs": [],
   "source": []
  }
 ],
 "metadata": {},
 "nbformat": 4,
 "nbformat_minor": 2
}
