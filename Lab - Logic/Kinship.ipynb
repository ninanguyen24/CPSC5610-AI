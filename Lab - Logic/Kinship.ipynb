{
 "cells": [
  {
   "cell_type": "markdown",
   "metadata": {},
   "source": [
    "Kinship exercise\n",
    "1.  Get to know the library\n",
    "1.  Identify the task\n",
    "2.  Assemble the relevant knowledge\n",
    "3.  Decide on a vocabulary of predicates, functions, and constants\n",
    "4.  Encode general knowledge about the domain\n",
    "5.  Encode a description of the specific problem instance\n",
    "6.  Pose queries to the inference procedure and get answers\n",
    "7.  Debug the knowledge base"
   ]
  },
  {
   "cell_type": "markdown",
   "metadata": {},
   "source": [
    "Cheat sheet for the library's syntax\n",
    "<pre>\n",
    "negation           -\n",
    "conjunction        &\n",
    "disjunction        |\n",
    "implication        ->\n",
    "equivalence        &lt;-&gt;\n",
    "equality           =\n",
    "inequality         !=\n",
    "existential        exists\n",
    "universal          all\n",
    "</pre>"
   ]
  },
  {
   "cell_type": "markdown",
   "metadata": {},
   "source": [
    "Easy example to show the library"
   ]
  },
  {
   "cell_type": "code",
   "execution_count": null,
   "metadata": {},
   "outputs": [],
   "source": [
    "from nltk.sem import Expression\n",
    "from nltk import ResolutionProver\n",
    "read_expr = Expression.fromstring\n",
    "\n",
    "p1 = read_expr('man(socrates)')\n",
    "p2 = read_expr('all x.(man(x) -> mortal(x))')\n",
    "c1 = read_expr('mortal(socrates)')\n",
    "\n",
    "ResolutionProver().prove(c3, [p1,p2], verbose=True)\n"
   ]
  },
  {
   "cell_type": "markdown",
   "metadata": {},
   "source": [
    "Just a little shortcut so we can work with formulas without knowing about prover internals"
   ]
  },
  {
   "cell_type": "code",
   "execution_count": 1,
   "metadata": {},
   "outputs": [],
   "source": [
    "from nltk.sem import Expression\n",
    "from nltk import ResolutionProver\n",
    "def runProof(goal, axioms, verbose=False):\n",
    "    proof = ResolutionProver().prove(Expression.fromstring(goal), [Expression.fromstring(a) for a in axioms], verbose)\n",
    "    print(proof)\n",
    "    "
   ]
  },
  {
   "cell_type": "code",
   "execution_count": 2,
   "metadata": {},
   "outputs": [
    {
     "name": "stdout",
     "output_type": "stream",
     "text": [
      "[1] {-mortal(socrates)}     A \n",
      "[2] {man(socrates)}         A \n",
      "[3] {-man(z2), mortal(z2)}  A \n",
      "[4] {-man(socrates)}        (1, 3) \n",
      "[5] {mortal(socrates)}      (2, 3) \n",
      "[6] {}                      (1, 5) \n",
      "\n",
      "True\n"
     ]
    }
   ],
   "source": [
    "g = 'mortal(socrates)'\n",
    "a = ['man(socrates)', 'all x.(man(x) -> mortal(x))']\n",
    "runProof(g, a, verbose=True)"
   ]
  },
  {
   "cell_type": "markdown",
   "metadata": {},
   "source": [
    "Always remember, if your knowledge base is contradictory, everything is true"
   ]
  },
  {
   "cell_type": "code",
   "execution_count": 3,
   "metadata": {},
   "outputs": [
    {
     "name": "stdout",
     "output_type": "stream",
     "text": [
      "True\n"
     ]
    }
   ],
   "source": [
    "runProof(\"1=2\", ['person(a)', '-person(a)'])"
   ]
  },
  {
   "cell_type": "markdown",
   "metadata": {},
   "source": [
    "---------------------------------------------------------\n",
    "\n",
    "Kinship\n",
    "\n",
    "*  A person has exactly one father and exactly one mother\n",
    "  * We'll discuss more realistic scenarios later. For example, multiple mothers, unknown mother\n",
    "*  A person has exactly one gender, and it's either Male or Female\n",
    "  * What happens when a person has no gender -- maybe s/he stops being a brother/sister and a son/daughter\n",
    "* Define the gender-agnostic concepts of parent/child, and spouse\n",
    "* A big deal we will ignore:  these relationships change over time.  "
   ]
  },
  {
   "cell_type": "code",
   "execution_count": null,
   "metadata": {},
   "outputs": [],
   "source": [
    "#  Every person has exactly two parents\n",
    "#    parent and child are inverses\n",
    "#    define isParent as a person being somebody's parent\n",
    "#  Define sibling in terms of sharing at least one parent\n",
    "#  Now define mother, father\n",
    "#  Define spouse but don't restrict for gender -- what happens then if we have two males who are spouses, and one is the father of child\n",
    "    can we say anything about the relationship between the second parent and the child?\n",
    "#  Define descendent(y, o)  -- y is a descendent of o if o is a parent of y OR there is some x such that x is the parent\n",
    "#   of o, and and "
   ]
  },
  {
   "cell_type": "code",
   "execution_count": null,
   "metadata": {},
   "outputs": [],
   "source": [
    "p1 = \"all\""
   ]
  }
 ],
 "metadata": {
  "kernelspec": {
   "display_name": "Python 3",
   "language": "python",
   "name": "python3"
  },
  "language_info": {
   "codemirror_mode": {
    "name": "ipython",
    "version": 3
   },
   "file_extension": ".py",
   "mimetype": "text/x-python",
   "name": "python",
   "nbconvert_exporter": "python",
   "pygments_lexer": "ipython3",
   "version": "3.7.0"
  }
 },
 "nbformat": 4,
 "nbformat_minor": 2
}
