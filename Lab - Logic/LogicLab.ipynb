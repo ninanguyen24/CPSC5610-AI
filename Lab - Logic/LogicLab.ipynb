{
 "cells": [
  {
   "cell_type": "markdown",
   "metadata": {},
   "source": [
    "Since this logic lab is probably not going to happen in class, I am going to provide some more examples, and also include both implementation examples and written examples -- the written examples should be useful for the midterm exam"
   ]
  },
  {
   "cell_type": "markdown",
   "metadata": {},
   "source": [
    "#### Implementation Examples ####"
   ]
  },
  {
   "cell_type": "markdown",
   "metadata": {},
   "source": [
    "**Cheat sheet for the library's syntax**\n",
    "\n",
    "<pre>\n",
    "negation           -\n",
    "conjunction        &\n",
    "disjunction        |\n",
    "implication        ->\n",
    "equivalence        &lt;-&gt;\n",
    "equality           =\n",
    "inequality         !=\n",
    "existential        exists\n",
    "universal          all\n",
    "</pre>"
   ]
  },
  {
   "cell_type": "markdown",
   "metadata": {},
   "source": [
    "1.  Get the resolution prover code installed, make sure you can run this code block"
   ]
  },
  {
   "cell_type": "code",
   "execution_count": 1,
   "metadata": {},
   "outputs": [],
   "source": [
    "from nltk.sem import Expression\n",
    "from nltk import ResolutionProver\n",
    "read_expr = Expression.fromstring"
   ]
  },
  {
   "cell_type": "code",
   "execution_count": 2,
   "metadata": {},
   "outputs": [
    {
     "name": "stdout",
     "output_type": "stream",
     "text": [
      "[1] {-mortal(socrates)}     A \n",
      "[2] {man(socrates)}         A \n",
      "[3] {-man(z2), mortal(z2)}  A \n",
      "[4] {-man(socrates)}        (1, 3) \n",
      "[5] {mortal(socrates)}      (2, 3) \n",
      "[6] {}                      (1, 5) \n",
      "\n"
     ]
    },
    {
     "data": {
      "text/plain": [
       "True"
      ]
     },
     "execution_count": 2,
     "metadata": {},
     "output_type": "execute_result"
    }
   ],
   "source": [
    "# Simple example just to check it's working.  Be aware the first\n",
    "#  time you load the libraries, you will see aelay\n",
    "\n",
    "p1 = read_expr('man(socrates)')\n",
    "p2 = read_expr('all x.(man(x) -> mortal(x))')\n",
    "g = read_expr('mortal(socrates)')\n",
    "\n",
    "ResolutionProver().prove(g, [p1,p2], verbose=True)\n"
   ]
  },
  {
   "cell_type": "code",
   "execution_count": 3,
   "metadata": {},
   "outputs": [],
   "source": [
    "# Shortcut method for running a proof\n",
    "\n",
    "def runProof(goal, axioms, verbose=False):\n",
    "    proof = ResolutionProver().prove(Expression.fromstring(goal), [Expression.fromstring(a) for a in axioms], verbose)\n",
    "    print(proof)\n"
   ]
  },
  {
   "cell_type": "code",
   "execution_count": null,
   "metadata": {},
   "outputs": [],
   "source": [
    "#  Same example as above, using the shortcut\n",
    "axiom = ['man(socrates)',\\\n",
    "         'all x.(man(x) -> mortal(x))']\n",
    "goal = 'mortal(socrates)'\n",
    "\n",
    "runProof(goal, axiom, True)"
   ]
  },
  {
   "cell_type": "markdown",
   "metadata": {},
   "source": [
    "#### Real questions below ####"
   ]
  },
  {
   "cell_type": "markdown",
   "metadata": {},
   "source": [
    "**Question 1**\n",
    "There was a famous ad slogan:  \"Everybody doesn't like something, but nobody doesn't like Sarah Lee\"\n",
    "Translate that into FOL, and use is to prove that there is something that Simka likes, but that the statement \"Simka doesn't like Sarah Lee\" is false"
   ]
  },
  {
   "cell_type": "code",
   "execution_count": null,
   "metadata": {},
   "outputs": [],
   "source": [
    "#  I am interpreting \"everybody to mean that this refers to a person.\n",
    "#  Notice \"nobody doesn't like\" is the same as \"everybody likes\"\n",
    "\n",
    "axioms = [ \"forall x.(person(x) -> exists y.( -like(x,y)))\",\n",
    "          \"forall x. (person(x) -> likes(x, SarahLee))\",\n",
    "          \"person(Simka)\"\n",
    "         ]\n",
    "goal1 = 'exists x.(-like(Simka, x))'\n",
    "goal2 = '-likes(Simka, SarahLee)'\n",
    "runProof(goal1, axioms, True)\n",
    "runProof(goal2, axioms, True)"
   ]
  },
  {
   "cell_type": "markdown",
   "metadata": {},
   "source": [
    "**Question 2**\n",
    "\n",
    "This is a small blocksworld example.\n",
    "\n",
    "Like the other Blocksworld scenario, we have two surfaces, a Table, and a Stack. A block can be on the Table with nothing  on top of it. Otherwse a block can be directly on the Stack, or on a block which is itself somewhere on the Stack. A block has to be one of those three places.\n",
    "\n",
    "Blocks have a shape, which is either CUBE or PYRAMID or SPHERE. A pyramid can't have anything stacked on it. A sphere can only be on the Table -- not on top of anything and nothing on top of it.\n",
    "\n",
    "A block has a color, which is either BLUE, or GREEN, or GOLD\n",
    "\n",
    "Your relations are:  on(b1, loc) shape(b, s) and color(b, s)\n",
    "Define a relation  above -- block A is above block B if A is on B, or A is on some other block that is on B\n",
    "\n",
    "Initial conditions B1 is a gold sphere on the table, B2 is a green cube at the bottom of the stack, and B3 is a blue \n",
    "pyramid on B2.\n",
    "\n",
    "The world is beautiful if there is a gold sphere on the table, and a pyramid at the top of the stack.\n",
    "Prove that this scene is beautiful.\n"
   ]
  },
  {
   "cell_type": "code",
   "execution_count": 11,
   "metadata": {},
   "outputs": [],
   "source": [
    "a1 = ['block(B1) ^ block(B2) ^ block(B3) ^ forall x.(block(x) -> b=B1 | b=B2 | b=B3)']\n",
    "# = 'block(B1) ^ -block(B4)'\n",
    "#runProof(g, a1, False)"
   ]
  },
  {
   "cell_type": "code",
   "execution_count": 16,
   "metadata": {},
   "outputs": [
    {
     "name": "stdout",
     "output_type": "stream",
     "text": [
      "[ 1] {-colorOf(B1,GREEN)}                                                        A \n",
      "[ 2] {block(B1)}                                                                 A \n",
      "[ 3] {block(B2)}                                                                 A \n",
      "[ 4] {block(B3)}                                                                 A \n",
      "[ 5] {-block(z80), (z79 = B1), (z79 = B2), (z79 = B3)}                           A \n",
      "[ 6] {-block(z83), color(F81(z83))}                                              A \n",
      "[ 7] {-block(z84), colorOf(z84,F81(z84))}                                        A \n",
      "[ 8] {-color(z86), (z86 = BLUE), (z86 = GREEN), (z86 = GOLD)}                    A \n",
      "[ 9] {color(z87), -(z87 = BLUE)}                                                 A \n",
      "[10] {color(z88), -(z88 = GREEN)}                                                A \n",
      "[11] {color(z89), -(z89 = GOLD)}                                                 A \n",
      "[12] {-colorOf(z95,z93), -colorOf(z95,F90(z95,z93)), (z93 = z94)}                A \n",
      "[13] {colorOf(B1,BLUE)}                                                          A \n",
      "[14] {-block(z80), (B3 = B1), (B3 = B2), -colorOf(B1,GREEN)}                     (1, 5) \n",
      "[15] {-color(GOLD), (GOLD = BLUE), (GOLD = GREEN), -colorOf(B1,GREEN)}           (1, 8) \n",
      "[16] {-color(GREEN), (GREEN = BLUE), -colorOf(B1,GREEN)}                         (1, 8) \n",
      "[17] {-color(BLUE), -colorOf(B1,GREEN)}                                          (1, 8) \n",
      "[18] {-colorOf(z95,z94), -colorOf(z95,F90(z95,z94)), -colorOf(B1,GREEN)}         (1, 12) \n",
      "[19] {-colorOf(B1,GREEN), -block(z80), (B2 = B1), -colorOf(B1,GREEN)}            (1, 14) \n",
      "[20] {-colorOf(B1,GREEN), -color(GOLD), (GOLD = BLUE), -colorOf(B1,GREEN)}       (1, 15) \n",
      "[21] {-colorOf(B1,GREEN), -color(GREEN), -colorOf(B1,GREEN)}                     (1, 16) \n",
      "[22] {-colorOf(B1,GREEN), -colorOf(B1,GREEN), -block(z80), -colorOf(B1,GREEN)}   (1, 19) \n",
      "[23] {-colorOf(B1,GREEN), -colorOf(B1,GREEN), -color(GOLD), -colorOf(B1,GREEN)}  (1, 20) \n",
      "[24] {}                                                                          (2, 5) \n",
      "\n",
      "True\n"
     ]
    }
   ],
   "source": [
    "a2 = ['forall b.(block(b) -> exists c.(color(c) ^ colorOf(b, c)))',\\\n",
    "     'forall c.(color(c) <-> c = BLUE | c = GREEN | c = GOLD)',\n",
    "      'forall b. (forall c1. (forall c2. (colorOf(b, c1) ^ colorOf(b, c2)) -> c1 = c2))']\n",
    "a3 = ['colorOf(B1, BLUE)']\n",
    "g = 'colorOf(B1, GREEN)'\n",
    "runProof(g, a1+a2+a3, verbose=True)"
   ]
  },
  {
   "cell_type": "code",
   "execution_count": null,
   "metadata": {},
   "outputs": [],
   "source": []
  }
 ],
 "metadata": {
  "kernelspec": {
   "display_name": "Python 3",
   "language": "python",
   "name": "python3"
  },
  "language_info": {
   "codemirror_mode": {
    "name": "ipython",
    "version": 3
   },
   "file_extension": ".py",
   "mimetype": "text/x-python",
   "name": "python",
   "nbconvert_exporter": "python",
   "pygments_lexer": "ipython3",
   "version": "3.7.0"
  }
 },
 "nbformat": 4,
 "nbformat_minor": 2
}
