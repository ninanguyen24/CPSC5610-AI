{
 "cells": [
  {
   "cell_type": "markdown",
   "metadata": {},
   "source": [
    "Problem (Re)Statement:\n",
    "\n",
    "* Shortness of breath (dyspnea) may be due to tuberculosis, lung cancer or bronchitis, or none of them, or more than one of them. \n",
    "* A recent visit to Asia increases the chances of tuberculosis.\n",
    "* Smoking is known to be a risk factor for both lung cancer and bronchitis. \n",
    "* A positive chest X-ray suggests either lung cancer or tuberculosis, but cannot distinguish between them"
   ]
  },
  {
   "cell_type": "markdown",
   "metadata": {},
   "source": [
    "Here is a data set to pull your model parameters from"
   ]
  },
  {
   "cell_type": "code",
   "execution_count": 1,
   "metadata": {},
   "outputs": [],
   "source": [
    "from pandas import *\n",
    "df = pandas.read_csv(\"asia.csv\")"
   ]
  },
  {
   "cell_type": "code",
   "execution_count": 12,
   "metadata": {},
   "outputs": [],
   "source": [
    "df.head()"
   ]
  },
  {
   "cell_type": "markdown",
   "metadata": {},
   "source": [
    "<image src=\"asia.gif\" size=200/>"
   ]
  },
  {
   "cell_type": "markdown",
   "metadata": {},
   "source": [
    "<image src=\"asia.gif\"/>\n"
   ]
  },
  {
   "cell_type": "markdown",
   "metadata": {},
   "source": [
    "Begin by writing out your model.  For example here are names of some nodes, and the arcs that connect them.\n",
    "<pre>\n",
    "Asia                 -> Tuberculosis\n",
    "\n",
    "Tuberculosis, Cancer -> TuberculosisOrCancer\n",
    "\n",
    "TuberculosisOrCancer -> Dyspnea\n",
    "\n",
    "</pre>"
   ]
  },
  {
   "cell_type": "markdown",
   "metadata": {},
   "source": [
    "-- Informally Write Your Model In This Cell -- \n",
    "It will determine the parameters you will need to get from the data set\n",
    "<pre>\n",
    "Asia                  -> Tuberculosis\n",
    "\n",
    "Tuberculosis          -> TuberculosisOrCancer\n",
    "\n",
    "Cancer                -> TuberculosisOrCancer\n",
    "\n",
    "TuberculossisOrCancer -> Xray\n",
    "\n",
    "TuberculossisOrCancer -> Dyspnea\n",
    "\n",
    "Smoking               -> Cancer\n",
    "\n",
    "Smoking               -> Bronchitis\n",
    "\n",
    "Bronchitis            -> Dyspnea\n",
    "</pre>\n"
   ]
  },
  {
   "cell_type": "markdown",
   "metadata": {},
   "source": [
    "Now define your distributions"
   ]
  },
  {
   "cell_type": "code",
   "execution_count": 3,
   "metadata": {},
   "outputs": [],
   "source": [
    "from pomegranate import *\n",
    "entries = len(df)\n",
    "\n",
    "#P(smoking)\n",
    "smoking = DiscreteDistribution({0: len(df[df.Smoker == 0]) / entries,\n",
    "                                1: len(df[df.Smoker == 1]) / entries})\n",
    "\n",
    "#P(Asia)\n",
    "asia = DiscreteDistribution({0: len(df[df.VisitToAsia == 0]) / entries,\n",
    "                             1: len(df[df.VisitToAsia == 1]) / entries})\n",
    "                                \n",
    "                            \n",
    "#P(tb|Asia)\n",
    "asia_0 = len(df[(df.VisitToAsia == 0)])\n",
    "asia_1 = len(df[(df.VisitToAsia == 1)])\n",
    "tb = ConditionalProbabilityTable([[0, 0, len(df[(df.VisitToAsia == 0) & (df.Tuberculosis == 0)])/asia_0],\n",
    "                                  [0, 1, len(df[(df.VisitToAsia == 0) & (df.Tuberculosis == 1)])/asia_0],\n",
    "                                  [1, 0, len(df[(df.VisitToAsia == 1) & (df.Tuberculosis == 0)])/asia_1],\n",
    "                                  [1, 1, len(df[(df.VisitToAsia == 1) & (df.Tuberculosis == 1)])/asia_1]],[asia])\n",
    "                             \n",
    "#P(cancer|Smoking)\n",
    "smoking_0 = len(df[(df.Smoker == 0)])\n",
    "smoking_1 = len(df[(df.Smoker == 1)])\n",
    "cancer= ConditionalProbabilityTable([[0, 0, len(df[(df.Smoker == 0) & (df.LungCancer == 0)])/smoking_0],\n",
    "                                     [0, 1, len(df[(df.Smoker == 0) & (df.LungCancer == 1)])/smoking_0],\n",
    "                                     [1, 0, len(df[(df.Smoker == 1) & (df.LungCancer == 0)])/smoking_1],\n",
    "                                     [1, 1, len(df[(df.Smoker == 1) & (df.LungCancer == 1)])/smoking_1]],[smoking])\n",
    "\n",
    "#P(bronchitis|Smoking)\n",
    "bronc= ConditionalProbabilityTable([[0, 0, len(df[(df.Smoker == 0) & (df.Bronchitis == 0)])/smoking_0],\n",
    "                                    [0, 1, len(df[(df.Smoker == 0) & (df.Bronchitis == 1)])/smoking_0],\n",
    "                                    [1, 0, len(df[(df.Smoker == 1) & (df.Bronchitis == 0)])/smoking_1],\n",
    "                                    [1, 1, len(df[(df.Smoker == 1) & (df.Bronchitis == 1)])/smoking_1]],[smoking])\n",
    "\n",
    "\n",
    "#P(tb_Cancer|Tb,Cancer)\n",
    "tbcancer_00 = len(df[(df.Tuberculosis == 0) & (df.LungCancer == 0)])\n",
    "tbcancer_01 = len(df[(df.Tuberculosis == 0) & (df.LungCancer == 1)])\n",
    "tbcancer_10 = len(df[(df.Tuberculosis == 1) & (df.LungCancer == 0)])\n",
    "tbcancer_11 = len(df[(df.Tuberculosis == 1) & (df.LungCancer == 1)])\n",
    "tb_cancer = ConditionalProbabilityTable([[0,0,0, len(df[(df.Tuberculosis == 0) & (df.LungCancer == 0) & (df.TuberculosisOrCancer == 0)])/tbcancer_00],\n",
    "                                         [0,0,1, len(df[(df.Tuberculosis == 0) & (df.LungCancer == 0) & (df.TuberculosisOrCancer == 1)])/tbcancer_00],\n",
    "                                         [0,1,0, len(df[(df.Tuberculosis == 0) & (df.LungCancer == 1) & (df.TuberculosisOrCancer == 0)])/tbcancer_01],\n",
    "                                         [0,1,1, len(df[(df.Tuberculosis == 0) & (df.LungCancer == 1) & (df.TuberculosisOrCancer == 1)])/tbcancer_01],\n",
    "                                         [1,0,0, len(df[(df.Tuberculosis == 1) & (df.LungCancer == 0) & (df.TuberculosisOrCancer == 0)])/tbcancer_10],\n",
    "                                         [1,0,1, len(df[(df.Tuberculosis == 1) & (df.LungCancer == 0) & (df.TuberculosisOrCancer == 1)])/tbcancer_10],\n",
    "                                         [1,1,0, len(df[(df.Tuberculosis == 1) & (df.LungCancer == 1) & (df.TuberculosisOrCancer == 0)])/tbcancer_11],\n",
    "                                         [1,1,1, len(df[(df.Tuberculosis == 1) & (df.LungCancer == 1) & (df.TuberculosisOrCancer == 1)])/tbcancer_11]], \n",
    "                                         [tb, cancer])\n",
    "\n",
    "#P(XRay|tb_Cancer)\n",
    "tb_Cancer_0 = len(df[(df.TuberculosisOrCancer == 0)])\n",
    "tb_Cancer_1 = len(df[(df.TuberculosisOrCancer == 1)])\n",
    "xray = ConditionalProbabilityTable([[0, 0, len(df[(df.TuberculosisOrCancer == 0) & (df.XRay == 0)])/tb_Cancer_0],\n",
    "                                    [0, 1, len(df[(df.TuberculosisOrCancer == 0) & (df.XRay == 1)])/tb_Cancer_0],\n",
    "                                    [1, 0, len(df[(df.TuberculosisOrCancer == 1) & (df.XRay == 0)])/tb_Cancer_1],\n",
    "                                    [1, 1, len(df[(df.TuberculosisOrCancer == 1) & (df.XRay == 1)])/tb_Cancer_1]],\n",
    "                                    [tb_cancer])\n",
    "\n",
    "#P(Dyspnea|tb_Cancer, bronc)\n",
    "tbcbronc_00 = len(df[(df.TuberculosisOrCancer == 0) & (df.Bronchitis == 0)])\n",
    "tbcbronc_01 = len(df[(df.TuberculosisOrCancer == 0) & (df.Bronchitis == 1)])\n",
    "tbcbronc_10 = len(df[(df.TuberculosisOrCancer == 1) & (df.Bronchitis == 0)])\n",
    "tbcbronc_11 = len(df[(df.TuberculosisOrCancer == 1) & (df.Bronchitis == 1)])\n",
    "dysp = ConditionalProbabilityTable([[0,0,0, len(df[(df.TuberculosisOrCancer == 0) & (df.Bronchitis == 0) & (df.Dyspnea == 0)])/tbcbronc_00],\n",
    "                                    [0,0,1, len(df[(df.TuberculosisOrCancer == 0) & (df.Bronchitis == 0) & (df.Dyspnea == 1)])/tbcbronc_00],\n",
    "                                    [0,1,0, len(df[(df.TuberculosisOrCancer == 0) & (df.Bronchitis == 1) & (df.Dyspnea == 0)])/tbcbronc_01],\n",
    "                                    [0,1,1, len(df[(df.TuberculosisOrCancer == 0) & (df.Bronchitis == 1) & (df.Dyspnea == 1)])/tbcbronc_01],\n",
    "                                    [1,0,0, len(df[(df.TuberculosisOrCancer == 1) & (df.Bronchitis == 0) & (df.Dyspnea == 0)])/tbcbronc_10],\n",
    "                                    [1,0,1, len(df[(df.TuberculosisOrCancer == 1) & (df.Bronchitis == 0) & (df.Dyspnea == 1)])/tbcbronc_10],\n",
    "                                    [1,1,0, len(df[(df.TuberculosisOrCancer == 1) & (df.Bronchitis == 1) & (df.Dyspnea == 0)])/tbcbronc_11],\n",
    "                                    [1,1,1, len(df[(df.TuberculosisOrCancer == 1) & (df.Bronchitis == 1) & (df.Dyspnea == 1)])/tbcbronc_11]], \n",
    "                                    [tb_cancer, bronc])"
   ]
  },
  {
   "cell_type": "markdown",
   "metadata": {},
   "source": [
    "Next define the nodes in your network"
   ]
  },
  {
   "cell_type": "code",
   "execution_count": 4,
   "metadata": {},
   "outputs": [],
   "source": [
    "asia_node = Node(asia, name=\"asia\")\n",
    "smoking_node = Node(smoking, name=\"smoking\")\n",
    "tb_node = Node(tb, name=\"tb\")\n",
    "cancer_node = Node(cancer, name=\"cancer\")\n",
    "bronc_node = Node(bronc, name=\"bronc\")\n",
    "tb_cancer_node = Node(tb_cancer, name=\"tb_cancer\")\n",
    "xray_node = Node(xray, name=\"xray\")\n",
    "dysp_node = Node(dysp, name=\"dysp\")"
   ]
  },
  {
   "cell_type": "markdown",
   "metadata": {},
   "source": [
    "Define your model, adding states and edges"
   ]
  },
  {
   "cell_type": "code",
   "execution_count": 5,
   "metadata": {},
   "outputs": [],
   "source": [
    "model = BayesianNetwork(\"Bayesian Network Example\")\n",
    "\n",
    "model.add_states(asia_node, smoking_node, tb_node, cancer_node, bronc_node, tb_cancer_node, xray_node, dysp_node)\n",
    "\n",
    "model.add_edge(asia_node, tb_node)\n",
    "model.add_edge(tb_node, tb_cancer_node)\n",
    "model.add_edge(cancer_node, tb_cancer_node)\n",
    "model.add_edge(tb_cancer_node, xray_node)\n",
    "model.add_edge(tb_cancer_node, dysp_node)\n",
    "model.add_edge(smoking_node, cancer_node)\n",
    "model.add_edge(smoking_node, bronc_node)\n",
    "model.add_edge(bronc_node, dysp_node)\n",
    "\n",
    "model.bake()"
   ]
  },
  {
   "cell_type": "markdown",
   "metadata": {},
   "source": [
    "------------------------------------------------"
   ]
  },
  {
   "cell_type": "markdown",
   "metadata": {},
   "source": [
    "#### Questions"
   ]
  },
  {
   "cell_type": "markdown",
   "metadata": {},
   "source": [
    "1.  Before checking, write down your guess for the probability that an individual in the population at large would have a positive X-Ray (i.e. a result that suggests either lung cancer or tuberculosis)"
   ]
  },
  {
   "cell_type": "markdown",
   "metadata": {},
   "source": [
    "Guesstimate of positive X-Ray in the population: 0.0488 or 4.88%"
   ]
  },
  {
   "cell_type": "markdown",
   "metadata": {},
   "source": [
    "2.  Now read that probability from the model you built.   "
   ]
  },
  {
   "cell_type": "code",
   "execution_count": 11,
   "metadata": {},
   "outputs": [],
   "source": [
    "model.predict_proba({})[6].parameters[0][1]"
   ]
  },
  {
   "cell_type": "markdown",
   "metadata": {},
   "source": [
    "3.  Is your empirical result significantly different from your guess?  If so, explain why.  If not, explain how you came to your original guess."
   ]
  },
  {
   "cell_type": "markdown",
   "metadata": {},
   "source": [
    "My original guess of the population getting a positive on XRay is close to the actual result but it's still off about 6 percent. \n",
    "\n",
    "We didn't use the asia.csv to filter on X-Ray to formulate my guess. To calculate my guess, we noticed X-Ray node is derived from multiple nodes(tuberculosis, lung cancer, asia, and smoking). For a high percentage of positive X-Ray, percentage of it's parents and grandparents nodes have to be high. However, it's very unlikely for the population to have high percentages of tuberculosis, asia, lung cancer, and smoking at the same time.\n",
    "\n",
    "So I took the probability of positive X-Ray given Tuberculosis and Cancer to get:\n",
    "0.050272756444539525 x 0.9723502304147466 = ~4.88%"
   ]
  },
  {
   "cell_type": "markdown",
   "metadata": {},
   "source": [
    "4.  How much does a trip to Asia affect the likelihood of an individual having Dyspnea?"
   ]
  },
  {
   "cell_type": "code",
   "execution_count": 10,
   "metadata": {},
   "outputs": [],
   "source": [
    "model.predict_proba({\"asia\": 1})[7].parameters[0][1]"
   ]
  },
  {
   "cell_type": "markdown",
   "metadata": {},
   "source": [
    " -- 45.39% likelihood of having Dyspnea after a trip to Asia -- "
   ]
  },
  {
   "cell_type": "markdown",
   "metadata": {},
   "source": [
    "5.  Suppose you are a nonsmoker individual presenting with Dyspnea and you have never been to Asia.  In your panic you have a chest XRay done, which comes out negative.   What do you now know about the state of your health?"
   ]
  },
  {
   "cell_type": "code",
   "execution_count": 9,
   "metadata": {},
   "outputs": [],
   "source": [
    "#predict having Tuberculosis or Lung Caner\n",
    "print(\"Having Tuberculosis or Lung Cancer \", \n",
    "      model.predict_proba({\"smoking\": 0, \"dysp\": 1, \"asia\": 0, \"xray\": 0})[5].parameters)\n",
    "\n",
    "#predict having Bronchitis\n",
    "print(\"Having Bronchitis \", \n",
    "    model.predict_proba({\"smoking\": 0, \"dysp\": 1, \"asia\": 0, \"xray\": 0})[4].parameters)"
   ]
  },
  {
   "cell_type": "markdown",
   "metadata": {},
   "source": [
    "-- 99.88% not having Tuberculosis or Lung Cancer but 78.00% having Bronchitis -- "
   ]
  }
 ],
 "metadata": {
  "kernelspec": {
   "display_name": "Python 3",
   "language": "python",
   "name": "python3"
  },
  "language_info": {
   "codemirror_mode": {
    "name": "ipython",
    "version": 3
   },
   "file_extension": ".py",
   "mimetype": "text/x-python",
   "name": "python",
   "nbconvert_exporter": "python",
   "pygments_lexer": "ipython3",
   "version": "3.7.1"
  }
 },
 "nbformat": 4,
 "nbformat_minor": 2
}
