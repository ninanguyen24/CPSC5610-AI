{
 "cells": [
  {
   "cell_type": "markdown",
   "metadata": {},
   "source": [
    "### Bayesian Network Inference Library\n",
    "\n",
    "We will be using the pomegranate library for Bayes Net inference\n",
    "\n",
    "  * Installation instructions https://pomegranate.readthedocs.io/en/latest/install.html\n",
    "  * Tutorial / documentation https://pomegranate.readthedocs.io/en/latest/BayesianNetwork.html\n",
    "  \n",
    "In the tutorial / documentation, ignore the parts about \"initializing a Bayesian network based completely on data\" and the sections on \"Probability\" \"Prediction\" and \"Fitting\" -- see the example below on how to determine the probability distribution on a node in the graph based on evidence.\n",
    "\n",
    "Just to make sure things are working, first load in the Monty Hall code from the tutorial and answer the question about whether or not a contestant should take Monty up on his offer to switch doors."
   ]
  },
  {
   "cell_type": "code",
   "execution_count": null,
   "metadata": {},
   "outputs": [],
   "source": [
    "from pomegranate import *\n",
    "\n",
    "guest = DiscreteDistribution({'A': 1./3, 'B': 1./3, 'C': 1./3})\n",
    "prize = DiscreteDistribution({'A': 1./3, 'B': 1./3, 'C': 1./3})\n",
    "monty = ConditionalProbabilityTable(\n",
    "        [['A', 'A', 'A', 0.0],\n",
    "         ['A', 'A', 'B', 0.5],\n",
    "         ['A', 'A', 'C', 0.5],\n",
    "         ['A', 'B', 'A', 0.0],\n",
    "         ['A', 'B', 'B', 0.0],\n",
    "         ['A', 'B', 'C', 1.0],\n",
    "         ['A', 'C', 'A', 0.0],\n",
    "         ['A', 'C', 'B', 1.0],\n",
    "         ['A', 'C', 'C', 0.0],\n",
    "         ['B', 'A', 'A', 0.0],\n",
    "         ['B', 'A', 'B', 0.0],\n",
    "         ['B', 'A', 'C', 1.0],\n",
    "         ['B', 'B', 'A', 0.5],\n",
    "         ['B', 'B', 'B', 0.0],\n",
    "         ['B', 'B', 'C', 0.5],\n",
    "         ['B', 'C', 'A', 1.0],\n",
    "         ['B', 'C', 'B', 0.0],\n",
    "         ['B', 'C', 'C', 0.0],\n",
    "         ['C', 'A', 'A', 0.0],\n",
    "         ['C', 'A', 'B', 1.0],\n",
    "         ['C', 'A', 'C', 0.0],\n",
    "         ['C', 'B', 'A', 1.0],\n",
    "         ['C', 'B', 'B', 0.0],\n",
    "         ['C', 'B', 'C', 0.0],\n",
    "         ['C', 'C', 'A', 0.5],\n",
    "         ['C', 'C', 'B', 0.5],\n",
    "         ['C', 'C', 'C', 0.0]], [guest, prize])\n",
    "\n",
    "s1 = Node(guest, name=\"guest\")\n",
    "s2 = Node(prize, name=\"prize\")\n",
    "s3 = Node(monty, name=\"monty\")\n",
    "\n",
    "model = BayesianNetwork(\"Monty Hall Problem\")\n",
    "model.add_states(s1, s2, s3)\n",
    "model.add_edge(s1, s3)\n",
    "model.add_edge(s2, s3)\n",
    "model.bake()"
   ]
  },
  {
   "cell_type": "code",
   "execution_count": null,
   "metadata": {},
   "outputs": [],
   "source": [
    "##  Suppose the guest chooses A, and Monty chooses B.\n",
    "##  Monty gives the guest to switch from A to C.  Should she?\n",
    "model.predict_proba({\"guest\": 'A', \"monty\": 'B'})"
   ]
  },
  {
   "cell_type": "markdown",
   "metadata": {},
   "source": [
    "### Second Example:  Typical Noisy Sensor\n",
    "\n",
    "* The variable **water** says whether or not there is water in my basement.  This variable takes values **{none, some, lots}**\n",
    "* I have a water detector **waterDetector** that is either **on** or **off**\n",
    "  * It is supposed to be **on** if and only if **water** is either some or lots\n",
    "  * However, it sometimes fails to alert (is **off** when **water** is either **some** or **lots**)\n",
    "  * It also sometimes false alarms (is **on** when **water** is **none**)\n",
    "\n",
    "This is what I discovered by observing the basement over time\n",
    "* On any given day, the probability of **water** is **(.98, .015, .05)** for values **(none, some, lots)**\n",
    "* The likelihood of a false alarm **P(waterDetector = on | water = none) = 0.01**\n",
    "* The likelihood of the sensor missing water depends on the water level: **P(waterDetector = off | water = some) = .10**;   **P(waterDetector = off | water = lots) = .005**\n"
   ]
  },
  {
   "cell_type": "code",
   "execution_count": null,
   "metadata": {},
   "outputs": [],
   "source": [
    "from pomegranate import *\n",
    "\n",
    "# This is my water node\n",
    "wdist = DiscreteDistribution({\"none\": 0.98, \"some\": 0.015, \"lots\": 0.005})\n",
    "water = Node(wdist, name=\"water\")\n",
    "\n",
    "# My water detector node\n",
    "wddist = ConditionalProbabilityTable([[\"none\", \"on\", 0.01],  [\"none\", \"off\", 0.99],\n",
    "                                      [\"some\", \"on\", 0.90],  [\"some\", \"off\", 0.10],\n",
    "                                      [\"lots\", \"on\", 0.995], [\"lots\", \"off\", 0.005]],\n",
    "                                     [wdist])\n",
    "waterDetector = Node(wddist, name=\"waterDetector\")\n",
    "\n",
    "# The Network\n",
    "model = BayesianNetwork(\"Water Detector\")\n",
    "model.add_states(water, waterDetector)\n",
    "model.add_edge(water, waterDetector)\n",
    "model.bake()\n",
    "                                     "
   ]
  },
  {
   "cell_type": "markdown",
   "metadata": {},
   "source": [
    "With no further information, what is the likelihood that (a) there is some or lots of water in my basement, and (b) what is the likelihood that my water detector is displaying ON"
   ]
  },
  {
   "cell_type": "code",
   "execution_count": null,
   "metadata": {},
   "outputs": [],
   "source": [
    "# Compute probabilities on the basis of no additional evidence.  Its output is a list of \n",
    "# distributions over node values, in the order they were added -- in our case, water is at [0] and waterDetector is at [1]\n",
    "model.predict_proba({})"
   ]
  },
  {
   "cell_type": "code",
   "execution_count": null,
   "metadata": {},
   "outputs": [],
   "source": [
    "# This is the distribution over values of water -- not surprising, it is the same as the priors \n",
    "#  (subject to rounding error)\n",
    "model.predict_proba({})[0].parameters"
   ]
  },
  {
   "cell_type": "code",
   "execution_count": null,
   "metadata": {},
   "outputs": [],
   "source": [
    "# This is the distribution over values of waterDetector\n",
    "model.predict_proba({})[1].parameters"
   ]
  },
  {
   "cell_type": "markdown",
   "metadata": {},
   "source": [
    "Suppose I learn that the water detector is **on**.  How does that affect my beliefs over the basement water level"
   ]
  },
  {
   "cell_type": "code",
   "execution_count": null,
   "metadata": {},
   "outputs": [],
   "source": []
  },
  {
   "cell_type": "markdown",
   "metadata": {},
   "source": [
    "Suppose instead I go to the basement and observe that there is no water in the basement.  \n",
    "How does that affect my belief as to whether or not the water detector is on?"
   ]
  },
  {
   "cell_type": "code",
   "execution_count": null,
   "metadata": {},
   "outputs": [],
   "source": []
  },
  {
   "cell_type": "markdown",
   "metadata": {},
   "source": [
    "####  Question 1 ####\n",
    "My beliefs about water level change with the season.   There are two seasons, the dry season and the wet season.\n",
    "The season affects my prior belief in the water level, not the behavior of the sensor.   If the season is \n",
    "**wet**  my prior distribution on **water** is\n",
    "{\"none\": 0.80, \"some\": 0.15, \"lots\": 0.05})\n",
    "and if the season is **dry** the distribution is \n",
    "{\"none\": 0.95, \"some\": 0.035, \"lots\": 0.015})\n",
    "\n",
    "Adjust the model accordingly.  Suppose it's the dry season, but my water detector is saying **on** -- what do I believe about water in the basement?\n"
   ]
  },
  {
   "cell_type": "code",
   "execution_count": null,
   "metadata": {},
   "outputs": [],
   "source": [
    "# This is my season node\n",
    "sdist = DiscreteDistribution({\"dry\": 0.50, \"wet\": 0.50})\n",
    "season = Node(sdist, name=\"season\")\n",
    "\n",
    "# This is my water node\n",
    "wdist = ConditionalProbabilityTable([[\"dry\", \"none\", 0.95],  [\"dry\", \"some\", 0.035], [\"dry\", \"lots\", 0.015],\n",
    "                                     [\"wet\", \"none\", 0.80],  [\"wet\", \"some\", 0.15], [\"wet\", \"lots\", 0.05]], [sdist])\n",
    "water = Node(wdist, name=\"water\")\n",
    "\n",
    "# My water detector node\n",
    "wddist = ConditionalProbabilityTable([[\"none\", \"on\", 0.01],  [\"none\", \"off\", 0.99],\n",
    "                                      [\"some\", \"on\", 0.90],  [\"some\", \"off\", 0.10],\n",
    "                                      [\"lots\", \"on\", 0.995], [\"lots\", \"off\", 0.005]],\n",
    "                                     [wdist])\n",
    "waterDetector = Node(wddist, name=\"waterDetector\")\n",
    "\n",
    "# The Network\n",
    "model = BayesianNetwork(\"Water Detector\")\n",
    "model.add_states(season, water, waterDetector)\n",
    "model.add_edge(season, water)\n",
    "model.add_edge(water, waterDetector)\n",
    "model.bake()"
   ]
  },
  {
   "cell_type": "code",
   "execution_count": null,
   "metadata": {},
   "outputs": [],
   "source": [
    "model.predict_proba({\"season\": \"dry\", \"waterDetector\": \"on\"})"
   ]
  },
  {
   "cell_type": "markdown",
   "metadata": {},
   "source": [
    "#### Question 2 ####\n",
    "This is a very common example for Bayes Nets -- it's a variation on the example in Chapter 14 in the book.\n",
    "\n",
    "I have an alarm in my house that can be triggered either by Burglaries or by Earthquakes, or both.\n",
    "It has a false positive rate of 0.001  (that is, .1% of the time it will go off even if there is no burglary and no earthquake).\n",
    "\n",
    "It almost always catches Burglaries:  if there is a burglary, then 99% of the time it will sound, but 1% of the time it will not.\n",
    "\n",
    "For Earthquakes, 60% of the time it will sound, but 40% of the time it will not.  \n",
    "\n",
    "It has never been tested in the case that there is a burglary and an earthquake simultaneously, but the company says that in that case it would sound 99.9% of the time.\n",
    "\n",
    "I have two neighbors, John and Mary, who have promised to call me if they hear the alarm.\n",
    "\n",
    "Mary lives close by, so if she is at home and the alarm goes off, she will report it;  also she would almost never (.01% of the time) report a false alarm.  On the other hand, she is not at home 25% of the time.\n",
    "\n",
    "John is always at home, and so if the alarm goes off, he will almost always (90% of the time) report it.  On the other hand, he tends to get over-anxious and call me by mistake sometimes (5% of the time).\n",
    "\n",
    "The likelihood of an earthquake is 0.002;  the likelihood of a burglary is 0.001.  There is no correlation between earthquakes and burglaries -- the fact that there is an earthquake does not make a burglary more likely, and vice versa.\n",
    "\n",
    "\n",
    "Code this as a Bayes network, and answer these two questions:\n",
    "\n",
    "1.  My phone is off so I don't know whether or not I got a call.  What is the likelihood there was a burglary?  What is the likelihood my alarm went off?\n",
    "\n",
    "2.  I just got a call from Mary but not John.  How does that affect my belief that there was a burglary?\n",
    "\n",
    "3.  I heard a reliable news report that there was an earthquake.  What is the chance I will will be getting a call from John soon?\n"
   ]
  }
 ],
 "metadata": {
  "kernelspec": {
   "display_name": "Python 3",
   "language": "python",
   "name": "python3"
  },
  "language_info": {
   "codemirror_mode": {
    "name": "ipython",
    "version": 3
   },
   "file_extension": ".py",
   "mimetype": "text/x-python",
   "name": "python",
   "nbconvert_exporter": "python",
   "pygments_lexer": "ipython3",
   "version": "3.7.0"
  }
 },
 "nbformat": 4,
 "nbformat_minor": 2
}
