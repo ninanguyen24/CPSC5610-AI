{
 "cells": [
  {
   "cell_type": "markdown",
   "metadata": {},
   "source": [
    "## Assignment 4 -- Applying Machine Learning Algorithms\n",
    "\n",
    "You will be given a data set, and will apply the techniques we have studied in class to predict a numeric response variable, and to evaluate alternative solutions.\n",
    "\n",
    "The steps will be\n",
    "\n",
    "1.  Exploratory data analysis and evaluation\n",
    "  * Find and correct outliers and missing values\n",
    "  * Find nonlinear relationships between the independent variables and the dependent variable, and transform the input appropriately\n",
    "  * Find correlation in the independent variables and decide how if at all to address it\n",
    "  \n",
    "\n",
    "2. Apply learning techniques.  In each case you will train the algorithm and evaluate it using the *test* $R^2$ statistic.  You will explore different hyperparameter values to find the model you think will maximize test $R^2$ for an evaluation data set.  You will do this for\n",
    "  * Linear regression exploring different variable sets using regular stepwise regression, Lasso, and Ridge Regression\n",
    "  * Decision tree regression exploring different tree depths\n",
    "  * Random forests and boosting exploring different parameter sets\n",
    "  * Neural networks \n",
    "\n",
    "\n",
    "3. Choosing the best method.  You will choose one algorithm and parameter settings you are most confident with, and write a function that enables it to evaluate a new data set.\n",
    "\n",
    "4. When I evaluate your solution, I will call this function on a new set of data, and score your solution (partially) on its results\n",
    "\n",
    "Every part of this assignment has been covered in the notebooks we have looked at in class, so that should be your first source of information and inspiration. \n",
    "\n",
    "<b><span style=\"color: blue\">Cells in blue indicate you should fill in your results -- either text or code.</span></b>\n",
    "\n",
    "When you submit your code, please fill in the cells asked for, but do not add new cells or change the other cells.\n",
    "\n",
    "I will run the cells in your submitted notebook in sequence, so make sure things are in the proper order, all the needed libraries have been imported, etc."
   ]
  },
  {
   "cell_type": "markdown",
   "metadata": {},
   "source": [
    "----------------------------\n",
    "#### Note on your prediction functions\n",
    "\n",
    "You will notice that for each technique, you are asked to provide a \"prediction\" function that takes an **X** matrix as input.  This **X** matrix will be in the format of the original data set you loaded.  So if in your data cleaning phase you added or deleted or transformed column values, each of these prediction functions must make the same transformations on its input prior to calling you model.\n"
   ]
  },
  {
   "cell_type": "markdown",
   "metadata": {},
   "source": [
    "---------------------------------------\n",
    "\n",
    "### Loading and Cleaning the Data Set\n",
    "\n",
    "The data set is in a file named **data_set.csv** -- it has 11 independent variables -- some are numeric and some categorical -- and a single numeric response variable $y$.\n",
    "\n",
    "In the first cleaning / analysis phase you should do the following\n",
    "1. Look for outlier values.  When you find outliers, you can do one of two things\n",
    "  * Throw away the data row altogether.  If many variables in the row seem uncommon, it is probably best to delete the row.\n",
    "  * Replace the outlier with a \"reasonable\" value -- probably the mean or median value for that variable.   The reasoning is that the benefit of keeping the row outweighs the error introduced by having a made-up value in one variable\n",
    "2. Look for missing values.  Most algorithms will throw away data rows that have *any* missing value.  You can just delete the row (especially if many values are missing) or assign it a \"reasonable\" value -- probably the mean value for that variable.  If there is an attribute that has many missing values, it is probably best to delete the whole column\n",
    "3. Look for nonlinear relationships.   Most important is finding nonlinear relationships between one of the $x$ variables, and the $y$ variable.  For example, maybe $y$ depends on $x^2$ or $\\log(x)$ rather than on $x$. In that case you need to guess at that relationship, and replace $x$ with a transformed value.  For example if it looks like $y$ depends on $x^2$ then just a column of $x^2$ values.  The easiest way to see these relationships is to do a pair plot between your X variables and y, including a trend line.  \"Well behaved\" $x$ variables tend to show no pattern except for (roughly) following the trend line.  If you are seeing other shapes, or sudden jumps in the behavior of $y$ as $x$ changes, something nonlinear is going on.\n",
    "4. Look for correlations among the $x$ variables.  If you find a correlation you may want to delete one of the correlated variables, but it is not necessary -- you will have to experiment to see if it improves your predictions.  To find correlations, you can use the pair plot, or a correlation matrix, or a heatmap -- there are examples of all of these in the class notebooks.\n",
    "5. Transform categorical variables to dummy (0/1 coded) variables\n",
    "\n",
    "The result of this phase should be a matrix ${\\bf X}$ and a vector ${\\bf y}$ that comprise your training set.\n",
    "\n",
    "Remember though, if you ever need to use your learned function to a new ${\\bf X}$ data set, you need to transform the input ${\\bf X}$ matrix the same way your transformed your test set -- otherwise your learned function will give bad results.\n",
    "\n",
    "Although it looks like this cleaning phase happens before any analysis/learning, the two processes are interleaved.  Start with a simple linear regression model and do minimal cleaning on your data set, just to the point the LR model works.  Then you can test more subtle transformations to see if they make your models perform better."
   ]
  },
  {
   "cell_type": "code",
   "execution_count": null,
   "metadata": {},
   "outputs": [],
   "source": [
    "# Your data cleaning code goes here.  The result should be X and y matrices that can be used to run the models you build below"
   ]
  },
  {
   "cell_type": "markdown",
   "metadata": {},
   "source": [
    "-----------------------------\n",
    "#### <span style=\"color: blue\">*Your Summary of EDA / Cleaning Phase*</span>\n",
    "\n",
    "<span style=\"color: blue\">\n",
    "\n",
    "*In this markdown cell please write up the transformations you made to the data set, and why you decided to make those transformations.*\n",
    "\n",
    "</span>\n",
    "\n",
    "---------------------------------"
   ]
  },
  {
   "cell_type": "markdown",
   "metadata": {},
   "source": [
    "In the following cells you will try various learning techniques on your data set.  For each one you will finish with a prediction function for your best model.  For example for linear regression you will define a function **linear_regression_predict(X)** which will produce the predicted $y$ values for your model.  Remember that the **X** argument is un-transformed."
   ]
  },
  {
   "cell_type": "markdown",
   "metadata": {},
   "source": [
    "-----------------------------------------\n",
    "### Linear Regression\n",
    "\n",
    "In this section you will try linear regression, and also use Lasso, Ridge Regression and Forward Stepwise Regression to find the set of variables that give you the best $R^2$ score.   You will produce a markdown summary, then implementations of your four models"
   ]
  },
  {
   "cell_type": "markdown",
   "metadata": {},
   "source": [
    "\n",
    "#### <span style=\"color: blue\">Summary of Your Linear Regression Models</span>\n",
    "<span style=\"color: blue\">\n",
    "In this markdown cell, summarize your results in building linear regression models for this data set.\n",
    "For each method (full-model regression, forward stepwise regression, Lasso, and Ridge regression) report on the best model:  the variables in the model, the adjusted $R^2$, the estimated test accuracy, and in the case of Lasso, the optimal $\\alpha$ value.  Can you explain the differences in the structure and performance of the alternative models?\n",
    "</span>"
   ]
  },
  {
   "cell_type": "code",
   "execution_count": null,
   "metadata": {},
   "outputs": [],
   "source": [
    "# This code cell should define a function linear_regression_predict(x_matrix)"
   ]
  },
  {
   "cell_type": "code",
   "execution_count": null,
   "metadata": {},
   "outputs": [],
   "source": [
    "# This code cell should define a function stepwise_regression_predict(x_matrix)"
   ]
  },
  {
   "cell_type": "code",
   "execution_count": null,
   "metadata": {},
   "outputs": [],
   "source": [
    "# This code cell should define a function lasso_predict(x_matrix)"
   ]
  },
  {
   "cell_type": "code",
   "execution_count": null,
   "metadata": {},
   "outputs": [],
   "source": [
    "# This code cell should define a function ridge_predict(x_matrix)"
   ]
  },
  {
   "cell_type": "markdown",
   "metadata": {},
   "source": [
    "--------------------------------------\n",
    "### Decision Tree Regressors and Ensemble Methods\n",
    "\n",
    "Here you will build decision tree regression learners, and experiment to optimize algorithm parameters.  You will implement learners for \n",
    "* Decision trees\n",
    "* Random forest\n",
    "* Boosting"
   ]
  },
  {
   "cell_type": "markdown",
   "metadata": {},
   "source": [
    "#### <span style=\"color: blue\">Summary of Your Decision Tree and Ensemble Method Models</span>\n",
    "<span style=\"color: blue\">\n",
    "In this markdown cell, summarize your results in building tree-based models for this data set.\n",
    "For each method report on the best model:  the model parameters and the estimated test accuracy.\n",
    "</span>"
   ]
  },
  {
   "cell_type": "code",
   "execution_count": null,
   "metadata": {},
   "outputs": [],
   "source": [
    "# This code cell should define a function decision_tree_predict(x_matrix)"
   ]
  },
  {
   "cell_type": "code",
   "execution_count": null,
   "metadata": {},
   "outputs": [],
   "source": [
    "# This code cell should define a function random_forest_predict(x_matrix)"
   ]
  },
  {
   "cell_type": "code",
   "execution_count": null,
   "metadata": {},
   "outputs": [],
   "source": [
    "# This code cell should define a function adaboost_predict(x_matrix)"
   ]
  },
  {
   "cell_type": "markdown",
   "metadata": {},
   "source": [
    "------------------------------------\n",
    "### Neural Networks\n",
    "\n",
    "For this part you will use the *keras* library to implement a neural net regression function.  You will experiment with the structure of the network to optimze for $R^2$.  Remember that your neural net implements a *predict* method, and you can use *sklearn.metrics.r2_score* to evaluate your model.  "
   ]
  },
  {
   "cell_type": "markdown",
   "metadata": {},
   "source": [
    "#### <span style=\"color: blue\">Summary of Neural Network Solution</span>\n",
    "<span style=\"color: blue\">\n",
    "In this markdown cell, summarize your results in building the neural network predictor, including the estimated test accuracy and the model parameterers\n",
    "</span>"
   ]
  },
  {
   "cell_type": "code",
   "execution_count": null,
   "metadata": {},
   "outputs": [],
   "source": [
    "# This code cell should define a function neural_network_predict(x_matrix)"
   ]
  },
  {
   "cell_type": "markdown",
   "metadata": {},
   "source": [
    "### Scoring Your Work\n",
    "In the following code cell, implement a method best_model_predict(X) where X is the same shape as the original training set in the data file.  I will call this function on a new data set generated by the same function, but not part of the training set.  Use whatever method and parameter settings you think will perform best.   **Remember** the ${\\bf X}$ matrix I will call your predict function with will be like the original data matrix, so if you did any transformations on the data set, you will have to do transformation on this matrix too.  It is guaranteed that the data set I used will not have any missing values or deliberate outliers."
   ]
  },
  {
   "cell_type": "code",
   "execution_count": null,
   "metadata": {},
   "outputs": [],
   "source": [
    "## This code cell should define a function best_model_predict(x_matrix)"
   ]
  },
  {
   "cell_type": "code",
   "execution_count": null,
   "metadata": {},
   "outputs": [],
   "source": [
    "## I will copy code into this cell which will (a) read in the evaluation data frame, \n",
    "## (b) call your predict function, and (c) compute a score for your model on my evaluation data set"
   ]
  }
 ],
 "metadata": {
  "kernelspec": {
   "display_name": "Python 3",
   "language": "python",
   "name": "python3"
  },
  "language_info": {
   "codemirror_mode": {
    "name": "ipython",
    "version": 3
   },
   "file_extension": ".py",
   "mimetype": "text/x-python",
   "name": "python",
   "nbconvert_exporter": "python",
   "pygments_lexer": "ipython3",
   "version": "3.7.0"
  }
 },
 "nbformat": 4,
 "nbformat_minor": 1
}
