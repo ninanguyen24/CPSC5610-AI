{
 "cells": [
  {
   "cell_type": "markdown",
   "metadata": {},
   "source": [
    "<br>Nina Nguyen</br>\n",
    "<br>CPSC 5610 - AI</br>\n",
    "<br>February 23, 2019</br>\n",
    "<br>Assignment 2 (Problem 2)</br>"
   ]
  },
  {
   "cell_type": "markdown",
   "metadata": {},
   "source": [
    "#### Job Shop Scheduling ####\n",
    "\n",
    "**Short summary**\n",
    "\n",
    "1. The problem consists of N *jobs* 1..N  each job has some number of *tasks*\n",
    "1. For each job, the tasks must be done in sequence\n",
    "1. Each task requires a *resource*,  and two tasks that use the same resource cannot be scheduled at the same time\n",
    "1. All tasks take three time units to complete\n",
    "1. All tasks are ready for execution at time 0, and must complete at or before time 15\n",
    "  1. Which means that if any job has more five tasks, it cannot be scheduled, no matter what\n",
    "\n",
    "There are some hints at the bottom of the file.\n",
    "\n",
    "Input to the problem comes in a variable like this:\n"
   ]
  },
  {
   "cell_type": "code",
   "execution_count": null,
   "metadata": {},
   "outputs": [],
   "source": [
    "# Job 1\n",
    "#   (o11, r1)   (o12, r2) (o13, r3)\n",
    "# Job 2\n",
    "#   (o21, r1)  (o22, r2)\n",
    "# Job 3\n",
    "#   (o31, r3) (o32, r1) (o33, r2)\n",
    "# Job 4\n",
    "#   (o41, r4) (o42, r2)\n",
    "#\n",
    "# The ri are the resources\n",
    "\n",
    "example = [[(\"o11\", \"r1\"), (\"o12\", \"r2\"), (\"o13\", \"r3\")],\n",
    "           [(\"o21\", \"r1\"), (\"o22\", \"r2\")],\n",
    "           [(\"o31\", \"r3\"), (\"o32\", \"r1\"), (\"o33\", \"r2\")],\n",
    "           [(\"o41\", \"r4\"), (\"o42\", \"r2\")]]\n"
   ]
  },
  {
   "cell_type": "markdown",
   "metadata": {},
   "source": [
    "----------------------------------------------"
   ]
  },
  {
   "cell_type": "code",
   "execution_count": null,
   "metadata": {},
   "outputs": [],
   "source": [
    "from constraint import *"
   ]
  },
  {
   "cell_type": "code",
   "execution_count": null,
   "metadata": {},
   "outputs": [],
   "source": [
    "###  Your implementation of solveCSP here:  takes a problem description as input, returns a \n",
    "###  list of solutions as output.  The method problem.getSolutions() returns a list of solutions.\n",
    "###  Each solution is a dictionary -- key is a task, value is the value it is assigned by the CSP\n",
    "\n",
    "def solveCSP(problemList):\n",
    "    \n",
    "    jobCount = len(problemList) #4\n",
    "    assignC = (len(problemList)+1)\n",
    "    bucket = range(jobCount)\n",
    "    problem = Problem()\n",
    "\n",
    "    for job in bucket:\n",
    "        taskOnly = problemList[job]\n",
    "        tasks = [tuple[0] for tuple in taskOnly]\n",
    "        problem.addVariables(tasks,range(assignC))\n",
    "            \n",
    "\n",
    "    addOrderConstraint(problemList,problem)\n",
    "    addMutexConstraint(problemList,problem)\n",
    "    return problem.getSolutions()\n",
    "\n",
    "#One task must come after another task in a Job\n",
    "def addOrderConstraint(problemList,problem):\n",
    "    for jobno in range(0,len(problemList)):\n",
    "        tasksAndResource = problemList[jobno]\n",
    "        tasks = [tuple[0] for tuple in tasksAndResource]\n",
    "        for i in range(0,len(tasks) - 1):\n",
    "            order = (tasks[i], tasks[i+1])\n",
    "            problem.addConstraint(lambda t1,t2: t1 < t2,order)\n",
    "\n",
    "#Two tasks using the same Resource cannot be scheduled at the same time\n",
    "def addMutexConstraint(problemList,problem):\n",
    "    resourceToTasks = {}\n",
    "    for jobno in range(0,len(problemList)):\n",
    "        tasksAndResource = problemList[jobno]\n",
    "        for task in range(0,len(tasksAndResource)):\n",
    "            tasks = tasksAndResource[task][0]\n",
    "            resource = tasksAndResource[task][1]\n",
    "            if resource not in resourceToTasks:\n",
    "                resourceToTasks[resource] = []\n",
    "            resourceToTasks[resource].append(tasks)\n",
    "            \n",
    "    for key,value in resourceToTasks.items():\n",
    "        resourceList = value\n",
    "        problem.addConstraint(AllDifferentConstraint(),resourceList)\n",
    "            \n",
    "def subtasks(problemList,jobno):\n",
    "    for job in range(0,len(problemList)):\n",
    "        tasksAndResource = problemList[jobno]\n",
    "        tasks = [tuple[0] for tuple in tasksAndResource]\n",
    "    return tasks\n",
    "    \n",
    "\n",
    "def resourceFor(subtask,problemList):\n",
    "    value = str()\n",
    "    for jobno in range(0,len(problemList)):\n",
    "        resource = problemList[jobno]\n",
    "        for i in range(0,len(resource)):\n",
    "            if resource[i][0] == subtask:\n",
    "                value = str(resource[i][1])\n",
    "    return value\n"
   ]
  },
  {
   "cell_type": "code",
   "execution_count": null,
   "metadata": {},
   "outputs": [],
   "source": [
    "def printSolution(problemList):\n",
    "    solutions = solveCSP(problemList)\n",
    "    if len(solutions) == 0:\n",
    "        print(\"No solutions for this problem\")\n",
    "    else:\n",
    "        print(\"There are \" + str(len(solutions)) + \" solutions.  Here is one:\\n\")\n",
    "        solution = solutions[0]\n",
    "        for jobno in range(0, len(problemList)): #4\n",
    "            print(\"Schedule for Job \" + str(jobno+1))\n",
    "            for subtask in sorted(subtasks(problemList, jobno)):\n",
    "                print(\"   Subtask \" + subtask + \" starts at \" + str(solution[subtask]*3) + \\\n",
    "                      \" ends at \" + str(2 + int(solution[subtask]*3)) + \"\\tuses \" + resourceFor(subtask, problemList))\n",
    "                "
   ]
  },
  {
   "cell_type": "code",
   "execution_count": null,
   "metadata": {},
   "outputs": [],
   "source": [
    "printSolution(example)"
   ]
  },
  {
   "cell_type": "markdown",
   "metadata": {},
   "source": [
    "-----------------------------------\n",
    "\n",
    "**Hints**\n",
    "1.  Since all tasks take three time units, it's easiest to partition time into \"buckets\" each of which is three time units long.  For example, bucket 1 is the interval between t=0 and t=2 inclusive, bucket 1 is t=3 to t=5 inclusive.  You will notice from the **printSolution** code that my solver does that bucketing, then when it prints the solution it converts the time bucket number to a real point in time\n",
    "2.  There are only two kinds of constraints:  order constraints (one task must come after another) and mutex constraints (two tasks must not be scheduled at the same time).   If you write helper functions for those two constraints, it will simplify your code a lot."
   ]
  },
  {
   "cell_type": "code",
   "execution_count": null,
   "metadata": {},
   "outputs": [],
   "source": []
  }
 ],
 "metadata": {
  "kernelspec": {
   "display_name": "Python 3",
   "language": "python",
   "name": "python3"
  },
  "language_info": {
   "codemirror_mode": {
    "name": "ipython",
    "version": 3
   },
   "file_extension": ".py",
   "mimetype": "text/x-python",
   "name": "python",
   "nbconvert_exporter": "python",
   "pygments_lexer": "ipython3",
   "version": "3.7.1"
  }
 },
 "nbformat": 4,
 "nbformat_minor": 2
}
