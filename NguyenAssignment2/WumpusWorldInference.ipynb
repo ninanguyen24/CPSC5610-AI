{
 "cells": [
  {
   "cell_type": "markdown",
   "metadata": {},
   "source": [
    "<br>Nina Nguyen</br>\n",
    "<br>CPSC 5610 - AI</br>\n",
    "<br>February 23, 2019</br>\n",
    "<br>Assignment 2 (Problem 4)</br>"
   ]
  },
  {
   "cell_type": "code",
   "execution_count": null,
   "metadata": {},
   "outputs": [],
   "source": [
    "from nltk.sem import Expression\n",
    "from nltk import ResolutionProver\n",
    "read_expr = Expression.fromstring"
   ]
  },
  {
   "cell_type": "code",
   "execution_count": null,
   "metadata": {},
   "outputs": [],
   "source": [
    "def prove(goal, premises, verbose=False):\n",
    "    read_expr = Expression.fromstring\n",
    "    return ResolutionProver().prove(read_expr(goal), [read_expr(p) for p in premises], verbose=verbose)\n"
   ]
  },
  {
   "cell_type": "markdown",
   "metadata": {},
   "source": [
    "Here is the entry point for the problem solver.  It works for an arbitrary Wumpus world of size N.  \n",
    "It is implemented entirely with two helper functions that you will write:  breezeMeansAdjacentPit and visitMeansNoPit\n",
    "both of which return a set of axioms.  "
   ]
  },
  {
   "cell_type": "code",
   "execution_count": null,
   "metadata": {},
   "outputs": [],
   "source": [
    "#  Need a special check for no activity, because sending an empty\n",
    "#  string to the theorem prover breaks it\n",
    "\n",
    "def wumpusQuery(query, activity, worldSize, verbose=False):\n",
    "    premises = breezeMeansAdjacentPit(worldSize) + visitMeansNoPit(worldSize)\n",
    "    if len(activity) > 0:\n",
    "        premises.append(activity)\n",
    "    return prove(query, premises, verbose)"
   ]
  },
  {
   "cell_type": "markdown",
   "metadata": {},
   "source": [
    "This next test demonstrates the problem solver on the size 2 world.  \n",
    "It shows that\n",
    "* with no activity, nothing is known about pits\n",
    "* with a visit to (1,1) and a breeze you can infer the disjunction of (1,2) and (2,1) but not either one singly\n",
    "* with an additional visit to (1,2) and no breeze you know for sure there's a pit at (2,1) and that there is no pit at either (1,1) or (2,2)"
   ]
  },
  {
   "cell_type": "code",
   "execution_count": null,
   "metadata": {},
   "outputs": [],
   "source": [
    "def testQueries(activity, worldSize):\n",
    "    print(\"Activity is \" + activity)\n",
    "    print(\"Pit at either (1,2) or (2,1): \" + str(wumpusQuery('pit(1,2) | pit(2,1)', activity, worldSize)))\n",
    "    print(\"Pit at (1,1): \" + str(wumpusQuery('pit(1,1)', activity, worldSize)))\n",
    "    print(\"Pit at (1,2): \" + str(wumpusQuery('pit(1,2)', activity, worldSize)))\n",
    "    print(\"Pit at (2,1): \" + str(wumpusQuery('pit(2,1)', activity, worldSize)))\n",
    "    print(\"Pit at (2,2): \" + str(wumpusQuery('pit(2,2)', activity, worldSize)))\n",
    "    print()\n",
    "\n",
    "activity = ''\n",
    "testQueries(activity, 2)\n",
    "\n",
    "activity = 'visit(1,1) ^ breeze(1,1)'\n",
    "testQueries(activity, 2)\n",
    "\n",
    "activity = 'visit(1,1) ^ breeze(1,1) ^ visit(1,2) ^ -breeze(1,2)'\n",
    "testQueries(activity, 2)\n"
   ]
  },
  {
   "cell_type": "markdown",
   "metadata": {},
   "source": [
    "Here you need to define the two helper functions that generate axioms that will be fed into the \n",
    "theorem prover via the wumpusQuery function"
   ]
  },
  {
   "cell_type": "code",
   "execution_count": null,
   "metadata": {},
   "outputs": [],
   "source": [
    "#  For all squares, if you have visited a square, you know there is no pit there\n",
    "def visitMeansNoPit(n):\n",
    "    # Return a list of strings (logical sentences)\n",
    "    return [visitAxiom(i,j,n) for i in range(1, n+1) for j in range(1, n+1)]\n",
    "\n",
    "# For all squares, if you hear a breeze at the square, then there is a pit in at least\n",
    "# one adjacent square.\n",
    "\n",
    "def breezeMeansAdjacentPit(n):\n",
    "    # Return a list of strings (logical sentences)\n",
    "    return [pitAxiomFor(i,j,n) for i in range(1, n+1) for j in range(1, n+1)]\n",
    "\n",
    "def pitAxiomFor(i,j, n):\n",
    "    adjacencies = list(filter(lambda p: p[0] >= 1 and p[0] <=n and p[1] >= 1 and p[1] <= n, [(i+1, j), (i-1, j), (i, j+1), (i, j-1)]))\n",
    "    breezeDisjunction = '|'.join(list(map(lambda p: \"pit{0}\".format(p), adjacencies)))\n",
    "    return \"breeze\" + str((i,j)) + ' -> ' + breezeDisjunction\n",
    "\n",
    "def visitAxiom(i,j,n):\n",
    "    position = (i,j)\n",
    "    return \"visit\" + \"{}\".format(position) + \" -> \" + \"-pit\" + \"{}\".format(position)"
   ]
  },
  {
   "cell_type": "code",
   "execution_count": null,
   "metadata": {},
   "outputs": [],
   "source": []
  },
  {
   "cell_type": "code",
   "execution_count": null,
   "metadata": {},
   "outputs": [],
   "source": []
  }
 ],
 "metadata": {
  "kernelspec": {
   "display_name": "Python 3",
   "language": "python",
   "name": "python3"
  },
  "language_info": {
   "codemirror_mode": {
    "name": "ipython",
    "version": 3
   },
   "file_extension": ".py",
   "mimetype": "text/x-python",
   "name": "python",
   "nbconvert_exporter": "python",
   "pygments_lexer": "ipython3",
   "version": "3.7.1"
  }
 },
 "nbformat": 4,
 "nbformat_minor": 2
}
