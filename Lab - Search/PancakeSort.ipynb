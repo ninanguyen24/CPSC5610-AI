{
 "cells": [
  {
   "cell_type": "code",
   "execution_count": 1,
   "metadata": {},
   "outputs": [],
   "source": [
    "## The search algorithm itself -- it takes a problem, which will give it an initial state and the goal test,\n",
    "##   the world state itself which gives it the successor states, and an evaluator that evaluates the quality\n",
    "##   of a node on the search frontier\n",
    "\n",
    "#  Priority queue code taken from Pacman project -- PriorityQueue supports\n",
    "#      pop, isEmpty, and push/update\n",
    "#\n",
    "#  Client supplies\n",
    "#    -- a WorldState; a WorldState implements the method successors()\n",
    "#    -- a Problem which supplies the initial state and goal state checker\n",
    "#    -- an Evaluator which supplies a method that evaluates a WorldState\n",
    "#\n",
    "#   The search function uses a SearchState which is a WorldState plus a sequence of \n",
    "#     actions (not examined by Search).   The search fringe is a priority \n",
    "#     queue of SearchState\n",
    "#\n",
    "#   Search returns a 2-tuple -- \n",
    "#    -- a sequence of actions\n",
    "#    -- performance information:  process time used, number of nodes expanded, \n",
    "#         number of nodes skipped (because they were previously expanded)\n",
    "\n",
    "from priorityqueue import PriorityQueue\n",
    "import time\n",
    "\n",
    "def aStarSearch(problem, evaluator, verbose=None):\n",
    "    startTime = time.process_time()\n",
    "    fringe = PriorityQueue()\n",
    "    visited = {}\n",
    "    initialWorldState = problem.initial()\n",
    "    initialValue = evaluator.value(initialWorldState, [])\n",
    "    initialSearchState = SearchState(initialWorldState, [])\n",
    "    fringe.update(initialSearchState, initialValue)\n",
    "    numVisited = numSkipped = 0\n",
    "    while (True):\n",
    "        if fringe.isEmpty():\n",
    "            return (None, (time.process_time() - startTime, numVisited, numSkipped))\n",
    "        nextNode = fringe.pop()   # A search state (state, actions)\n",
    "        numVisited += 1\n",
    "        if (verbose and numVisited % verbose == 0):\n",
    "            print(\"Visited \" + str(numVisited) + \" world is \" + str(nextNode._worldState))\n",
    "            print(\"Skipped \" + str(numSkipped) + \" Fringe is size \" + str(len(fringe.heap)))\n",
    "            print(\"Evaluation is \" + str(evaluator.value(nextNode._worldState, nextNode._actions)) + \" with actions \" + str(len(nextNode._actions)))\n",
    "        if (problem.isGoal(nextNode.worldState())):\n",
    "            return (nextNode._actions, (time.process_time() - startTime, numVisited, numSkipped))\n",
    "        if (nextNode._worldState in visited):\n",
    "            numSkipped += 1\n",
    "        else:\n",
    "            visited[nextNode.worldState()] = True\n",
    "            successors = nextNode.worldState().successors()\n",
    "            for successor in successors:\n",
    "                state, action = successor\n",
    "                actions = list(nextNode.actions())\n",
    "                actions.append(action)\n",
    "                newSS = SearchState(state, actions)\n",
    "                newValue = evaluator.value(state, actions)\n",
    "                fringe.update(newSS, newValue)\n",
    "    raise \"Impossible search execution path.\"\n",
    "\n",
    "## Instances of SearchState go on the search fringe -- contains both a state and \n",
    "## list of actions so far\n",
    "\n",
    "class SearchState:\n",
    "    def __str__(self):\n",
    "        return \"{S \" + str(self._worldState) + \"/\" + str(self._actions) + \"}\"\n",
    "    \n",
    "    def __init__(self, worldState, actions):\n",
    "        self._worldState = worldState\n",
    "        self._actions = actions\n",
    "    \n",
    "    def worldState(self):\n",
    "        return self._worldState\n",
    "    \n",
    "    def actions(self):\n",
    "        return self._actions"
   ]
  },
  {
   "cell_type": "markdown",
   "metadata": {},
   "source": [
    "### Interface Between Search and Client ###"
   ]
  },
  {
   "cell_type": "code",
   "execution_count": 2,
   "metadata": {},
   "outputs": [],
   "source": [
    "class WorldState:\n",
    "    #  Method successors() returns a tuple:  (worldState, action)\n",
    "    def successors():\n",
    "        raise \"Not implemented\"\n",
    "\n",
    "\n",
    "# Evaluator provides the evaluator f(s) = g(s) + h*(s)\n",
    "\n",
    "class Evaluator:\n",
    "    def __init__(self, goalEstimator, actionsCoster):\n",
    "        self._estimator = goalEstimator\n",
    "        self._coster = actionsCoster\n",
    "    def estimateToGoal(self, state):\n",
    "        return self._estimator(state)\n",
    "    def costSoFar(self, actions):\n",
    "        return self._coster(actions)\n",
    "    def value(self, state, actions):\n",
    "        return self.estimateToGoal(state) + self.costSoFar(actions)\n",
    "    "
   ]
  },
  {
   "cell_type": "markdown",
   "metadata": {},
   "source": [
    "### Domain-Specific Code ###"
   ]
  },
  {
   "cell_type": "code",
   "execution_count": 3,
   "metadata": {},
   "outputs": [
    {
     "ename": "IndentationError",
     "evalue": "expected an indented block (<ipython-input-3-8700e0816669>, line 18)",
     "output_type": "error",
     "traceback": [
      "\u001b[1;36m  File \u001b[1;32m\"<ipython-input-3-8700e0816669>\"\u001b[1;36m, line \u001b[1;32m18\u001b[0m\n\u001b[1;33m    def isGoal(self):\u001b[0m\n\u001b[1;37m      ^\u001b[0m\n\u001b[1;31mIndentationError\u001b[0m\u001b[1;31m:\u001b[0m expected an indented block\n"
     ]
    }
   ],
   "source": [
    "import copy\n",
    "\n",
    "class PState(WorldState):\n",
    "    def __str__(self):\n",
    "        return \"{\" + str(self.a) + \"}\"\n",
    "    def __eq__(self, other):\n",
    "        if isinstance(other, PState):\n",
    "            return self.a == other.a\n",
    "        else:\n",
    "            return False\n",
    "    def __hash__(self):\n",
    "        return hash(str(self.a))\n",
    "    \n",
    "    def successors(self):\n",
    "      #  Return a list of length len(self.a)-1 -- each element is a pair -- (aPState, aString)\n",
    "        # Implementation here\n",
    "    \n",
    "    def isGoal(self):\n",
    "        return isSorted(self.a)\n",
    "\n",
    "def isSorted(anArray):\n",
    "    # Need to implement\n",
    "    return False\n"
   ]
  },
  {
   "cell_type": "markdown",
   "metadata": {},
   "source": [
    "----------------------------------------------"
   ]
  },
  {
   "cell_type": "code",
   "execution_count": null,
   "metadata": {},
   "outputs": [],
   "source": [
    "class PSortProblem:\n",
    "    def __init__(self, initialArray):\n",
    "      self.ia = initialArray\n",
    "    \n",
    "    def initial(self):\n",
    "       return PState(self.ia)\n",
    "    \n",
    "    def isGoal(self, state):\n",
    "        return state.isGoal()\n"
   ]
  },
  {
   "cell_type": "code",
   "execution_count": null,
   "metadata": {},
   "outputs": [],
   "source": [
    "# Actual cost function g(s) assumes equal-cost actions\n",
    "\n",
    "def uniformCostCoster(actions):\n",
    "    return len(actions)\n",
    "\n",
    "# This is an \"estimator\" for bfs\n",
    "def estimateToGoal(state):\n",
    "    return 1\n",
    "\n",
    "bfsEvaluator = Evaluator(estimateToGoal, uniformCostCoster)"
   ]
  },
  {
   "cell_type": "code",
   "execution_count": null,
   "metadata": {},
   "outputs": [],
   "source": [
    "anArray = [2,4,1,8,3, 12]\n",
    "actions, stats = aStarSearch(PSortProblem(anArray), bfsEvaluator, verbose=100)\n",
    "print(actions)\n",
    "print(stats)"
   ]
  },
  {
   "cell_type": "code",
   "execution_count": null,
   "metadata": {},
   "outputs": [],
   "source": []
  }
 ],
 "metadata": {
  "kernelspec": {
   "display_name": "Python 3",
   "language": "python",
   "name": "python3"
  },
  "language_info": {
   "codemirror_mode": {
    "name": "ipython",
    "version": 3
   },
   "file_extension": ".py",
   "mimetype": "text/x-python",
   "name": "python",
   "nbconvert_exporter": "python",
   "pygments_lexer": "ipython3",
   "version": "3.7.0"
  }
 },
 "nbformat": 4,
 "nbformat_minor": 2
}
