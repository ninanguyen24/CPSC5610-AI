{
 "cells": [
  {
   "cell_type": "markdown",
   "metadata": {},
   "source": [
    "### Problem-Independent Machinery"
   ]
  },
  {
   "cell_type": "code",
   "execution_count": 2,
   "metadata": {},
   "outputs": [],
   "source": [
    "## The search algorithm itself -- it takes a problem, which will give it an initial state and the goal test,\n",
    "##   the world state itself which gives it the successor states, and an evaluator that evaluates the quality\n",
    "##   of a node on the search frontier\n",
    "\n",
    "#  Priority queue code taken from Pacman project -- PriorityQueue supports\n",
    "#      pop, isEmpty, and push/update\n",
    "#\n",
    "#  Client supplies\n",
    "#    -- a WorldState; a WorldState implements the method successors()\n",
    "#    -- a Problem which supplies the initial state and goal state checker\n",
    "#    -- an Evaluator which supplies a method that evaluates a WorldState\n",
    "#\n",
    "#   The search function uses a SearchState which is a WorldState plus a sequence of \n",
    "#     actions (not examined by Search).   The search fringe is a priority \n",
    "#     queue of SearchState\n",
    "#\n",
    "#   Search returns a 2-tuple -- \n",
    "#    -- a sequence of actions\n",
    "#    -- performance information:  process time used, number of nodes expanded, \n",
    "#         number of nodes skipped (because they were previously expanded)\n",
    "\n",
    "from priorityqueue import PriorityQueue\n",
    "import time\n",
    "\n",
    "def aStarSearch(problem, evaluator, verbose=None):\n",
    "    startTime = time.process_time()\n",
    "    fringe = PriorityQueue()\n",
    "    visited = {}\n",
    "    initialWorldState = problem.initial()\n",
    "    initialValue = evaluator.value(initialWorldState, [])\n",
    "    initialSearchState = SearchState(initialWorldState, [])\n",
    "    fringe.update(initialSearchState, initialValue)\n",
    "    numVisited = numSkipped = 0\n",
    "    while (True):\n",
    "        if fringe.isEmpty():\n",
    "            return (None, (time.process_time() - startTime, numVisited, numSkipped))\n",
    "        nextNode = fringe.pop()   # A search state (state, actions)\n",
    "        numVisited += 1\n",
    "        if (verbose and numVisited % verbose == 0):\n",
    "            print(\"Visited \" + str(numVisited) + \" world is \" + str(nextNode._worldState))\n",
    "            print(\"Skipped \" + str(numSkipped) + \" Fringe is size \" + str(len(fringe.heap)))\n",
    "            print(\"Evaluation is \" + str(evaluator.value(nextNode._worldState, nextNode._actions)) + \" with actions \" + str(len(nextNode._actions)))\n",
    "        if (problem.isGoal(nextNode.worldState())):\n",
    "            return (nextNode._actions, (time.process_time() - startTime, numVisited, numSkipped))\n",
    "        if (nextNode._worldState in visited):\n",
    "            numSkipped += 1\n",
    "        else:\n",
    "            visited[nextNode.worldState()] = True\n",
    "            successors = nextNode.worldState().successors()\n",
    "            for successor in successors:\n",
    "                state, action = successor\n",
    "                actions = list(nextNode.actions())\n",
    "                actions.append(action)\n",
    "                newSS = SearchState(state, actions)\n",
    "                newValue = evaluator.value(state, actions)\n",
    "                fringe.update(newSS, newValue)\n",
    "    raise \"Impossible search execution path.\"\n",
    "\n",
    "## Instances of SearchState go on the search fringe -- contains both a state and \n",
    "## list of actions so far\n",
    "\n",
    "class SearchState:\n",
    "    def __str__(self):\n",
    "        return \"{S \" + str(self._worldState) + \"/\" + str(self._actions) + \"}\"\n",
    "    \n",
    "    def __init__(self, worldState, actions):\n",
    "        self._worldState = worldState\n",
    "        self._actions = actions\n",
    "    \n",
    "    def worldState(self):\n",
    "        return self._worldState\n",
    "    \n",
    "    def actions(self):\n",
    "        return self._actions"
   ]
  },
  {
   "cell_type": "markdown",
   "metadata": {},
   "source": [
    "### Interface Between Search and Client ###"
   ]
  },
  {
   "cell_type": "code",
   "execution_count": 3,
   "metadata": {},
   "outputs": [],
   "source": [
    "class WorldState:\n",
    "    #  Method successors() returns a tuple:  (worldState, action)\n",
    "    def successors():\n",
    "        raise \"Not implemented\"\n",
    "\n",
    "# Evaluator provides the evaluator f(s) = g(s) + h*(s)\n",
    "\n",
    "class Evaluator:\n",
    "    def __init__(self, goalEstimator, actionsCoster):\n",
    "        self._estimator = goalEstimator\n",
    "        self._coster = actionsCoster\n",
    "    def estimateToGoal(self, state):\n",
    "        return self._estimator(state)\n",
    "    def costSoFar(self, actions):\n",
    "        return self._coster(actions)\n",
    "    def value(self, state, actions):\n",
    "        return self.estimateToGoal(state) + self.costSoFar(actions)\n",
    "    "
   ]
  },
  {
   "cell_type": "code",
   "execution_count": 4,
   "metadata": {},
   "outputs": [],
   "source": [
    "import copy\n",
    "\n",
    "class PancakeWorldState(WorldState):\n",
    "\n",
    "    def __init__(self, arr):\n",
    "        self._list = arr\n",
    "        \n",
    "    def __str__(self):\n",
    "        return str(self._list)\n",
    "    \n",
    "    #  Any world state needs to redefine equality and hash so instances go on the priority queue correctly\n",
    "    #  and the duplication check works\n",
    "    \n",
    "    def __eq__(self, other):\n",
    "        if isinstance(other, PancakeWorldState):\n",
    "            return self._list == other._list\n",
    "        else:\n",
    "            return False\n",
    "\n",
    "    def __hash__(self):\n",
    "        return hash(str(self._list) + str(len(self._list)))\n",
    "    \n",
    "    \n",
    "    def successors(self):\n",
    "        candidates = [self.flip(x) for x in range(1, len(self._list))]\n",
    "        return candidates\n",
    "    \n",
    "    def flip(self, index):\n",
    "        inputList = self._list\n",
    "        newList = flipArray(inputList, index)\n",
    "        newS = PancakeWorldState(newList)   \n",
    "        return (newS, \"flip_\" + str(index))\n",
    "    \n",
    "    def isGoal(self):\n",
    "        return arrayIsSorted(self._list)\n",
    "\n",
    "def flipArray(array, flip):\n",
    "    array = copy.copy(array)\n",
    "    return array[:flip+1][::-1] + array[flip+1:]\n",
    "\n",
    "def arrayIsSorted(array):\n",
    "    for i in range(0,len(array)-1):\n",
    "        if (array[i] > array[i+1]):\n",
    "            return False\n",
    "    return True\n"
   ]
  },
  {
   "cell_type": "code",
   "execution_count": 5,
   "metadata": {},
   "outputs": [],
   "source": [
    "class PancakeWorldProblem:\n",
    "    def __init__(self, startList):\n",
    "        self._initial = startList\n",
    "  \n",
    "    def initial(self):\n",
    "        return(PancakeWorldState(self._initial))\n",
    "    \n",
    "    def isGoal(self, state):\n",
    "        return state.isGoal()"
   ]
  },
  {
   "cell_type": "code",
   "execution_count": 6,
   "metadata": {},
   "outputs": [],
   "source": [
    "def uniformCostCoster(actions):\n",
    "    return len(actions)"
   ]
  },
  {
   "cell_type": "code",
   "execution_count": 10,
   "metadata": {},
   "outputs": [],
   "source": [
    "def pancakeSort(startList):\n",
    "    testPancakeProblem = PancakeWorldProblem(startList)\n",
    "    bfsEvaluator = Evaluator(lambda state: 0, uniformCostCoster)\n",
    "    actions, stats = aStarSearch(testPancakeProblem, bfsEvaluator)\n",
    "    resultString = \"Expanded \" + str(stats[1]) + \"\\n\" + str(actions)\n",
    "    print(\"Stats: \" + str(stats))\n",
    "    return resultString"
   ]
  },
  {
   "cell_type": "code",
   "execution_count": 8,
   "metadata": {},
   "outputs": [
    {
     "name": "stdout",
     "output_type": "stream",
     "text": [
      "Stats: (0.0, 90, 27)\n",
      "Expanded 90\n",
      "['flip_1', 'flip_3', 'flip_4', 'flip_1']\n"
     ]
    }
   ],
   "source": [
    "print(pancakeSort([3,1,4,5,2]))"
   ]
  },
  {
   "cell_type": "code",
   "execution_count": 11,
   "metadata": {},
   "outputs": [
    {
     "name": "stdout",
     "output_type": "stream",
     "text": [
      "Stats: (0.0, 1, 0)\n",
      "Expanded 1\n",
      "[]\n",
      "Stats: (0.0, 1, 0)\n",
      "Expanded 1\n",
      "[]\n",
      "Stats: (0.0, 1, 0)\n",
      "Expanded 1\n",
      "[]\n",
      "Stats: (0.671875, 1356, 502)\n",
      "Expanded 1356\n",
      "['flip_1', 'flip_3', 'flip_5', 'flip_6', 'flip_5']\n"
     ]
    }
   ],
   "source": [
    "print(pancakeSort([]))\n",
    "print(pancakeSort([0]))\n",
    "print(pancakeSort([0,1]))\n",
    "print(pancakeSort([3,2,4,5,1,7,6]))\n"
   ]
  },
  {
   "cell_type": "code",
   "execution_count": null,
   "metadata": {},
   "outputs": [],
   "source": []
  }
 ],
 "metadata": {
  "kernelspec": {
   "display_name": "Python 3",
   "language": "python",
   "name": "python3"
  },
  "language_info": {
   "codemirror_mode": {
    "name": "ipython",
    "version": 3
   },
   "file_extension": ".py",
   "mimetype": "text/x-python",
   "name": "python",
   "nbconvert_exporter": "python",
   "pygments_lexer": "ipython3",
   "version": "3.7.0"
  }
 },
 "nbformat": 4,
 "nbformat_minor": 2
}
